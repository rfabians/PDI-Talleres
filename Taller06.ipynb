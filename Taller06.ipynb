{
 "cells": [
  {
   "cell_type": "markdown",
   "metadata": {},
   "source": [
    "\n",
    "## Universidad Distrital Francisco José de Caldas\n",
    "### Facultad de Ingeniería\n",
    "### Especialización en Sistemas de Información Geográfica\n",
    "### Procesamiento Matematico Digital de Imagenes  \n",
    "\n",
    "Taller 06  \n",
    "  \n",
    "Rafael Fabian Sanchez Osorio  \n",
    "Jorge Alexander Sierra Sierra  \n",
    "Maria Fernanda Jimenez  \n",
    "Fabian Andres Barreto  \n",
    "\n",
    "### Grupo 07"
   ]
  },
  {
   "cell_type": "markdown",
   "metadata": {},
   "source": [
    "### 01. Importando Libreria"
   ]
  },
  {
   "cell_type": "code",
   "execution_count": null,
   "metadata": {},
   "outputs": [],
   "source": [
    "import PDI\n",
    "from IPython.display import display, Latex, Markdown, Math"
   ]
  },
  {
   "cell_type": "markdown",
   "metadata": {},
   "source": [
    "### 02. Cargando Datos  \n",
    "  \n",
    "Obteniendo los datos desde archivos TXT donde se tiene almacenado la información de las bandas suministradas"
   ]
  },
  {
   "cell_type": "code",
   "execution_count": null,
   "metadata": {},
   "outputs": [],
   "source": [
    "rutaBandaB17 = 'Bandas/B17.txt'\n",
    "rutaBandaB27 = 'Bandas/B27.txt'\n",
    "rutaBandaB37 = 'Bandas/B37.txt'\n",
    "rutaBandaB47 = 'Bandas/B47.txt'\n",
    "\n",
    "bandaB17 = PDI.Banda(rutaArchivoBanda=rutaBandaB17)\n",
    "bandaB27 = PDI.Banda(rutaArchivoBanda=rutaBandaB27)\n",
    "bandaB37 = PDI.Banda(rutaArchivoBanda=rutaBandaB37)\n",
    "bandaB47 = PDI.Banda(rutaArchivoBanda=rutaBandaB47)\n",
    "\n",
    "listadobandas = [bandaB17, bandaB27, bandaB37, bandaB47]"
   ]
  },
  {
   "cell_type": "markdown",
   "metadata": {},
   "source": [
    "2.1 Creando Representación visual de la Banda B17"
   ]
  },
  {
   "cell_type": "code",
   "execution_count": null,
   "metadata": {},
   "outputs": [],
   "source": [
    "bandaB17.getGraficaMatriz()"
   ]
  },
  {
   "cell_type": "markdown",
   "metadata": {},
   "source": [
    "2.2 Creando Representación visual de la Banda B27"
   ]
  },
  {
   "cell_type": "code",
   "execution_count": null,
   "metadata": {},
   "outputs": [],
   "source": [
    "bandaB27.getGraficaMatriz()"
   ]
  },
  {
   "cell_type": "markdown",
   "metadata": {},
   "source": [
    "2.3 Creando Representación visual de la Banda B37"
   ]
  },
  {
   "cell_type": "code",
   "execution_count": null,
   "metadata": {},
   "outputs": [],
   "source": [
    "bandaB37.getGraficaMatriz()"
   ]
  },
  {
   "cell_type": "markdown",
   "metadata": {},
   "source": [
    "2.4 Creando Representación visual de la Banda B47"
   ]
  },
  {
   "cell_type": "code",
   "execution_count": null,
   "metadata": {},
   "outputs": [],
   "source": [
    "bandaB47.getGraficaMatriz()"
   ]
  },
  {
   "cell_type": "markdown",
   "metadata": {},
   "source": [
    "### 03. Creando Matriz de Covarianza  \n",
    "  "
   ]
  },
  {
   "cell_type": "markdown",
   "metadata": {},
   "source": [
    "3.1 Cálculando media de las Bandas"
   ]
  },
  {
   "cell_type": "code",
   "execution_count": null,
   "metadata": {},
   "outputs": [],
   "source": [
    "componentesPrincipales = PDI.ComponentesPrincipales(listadoBandas=listadobandas)\n",
    "componentesPrincipales.getPromediosBandas().head()"
   ]
  },
  {
   "cell_type": "markdown",
   "metadata": {},
   "source": [
    "3.2 Generando los Vectores para Calcular la Matrices de Varianza y Covarianza"
   ]
  },
  {
   "cell_type": "code",
   "execution_count": null,
   "metadata": {},
   "outputs": [],
   "source": [
    "componentesPrincipales.impresionLatexCreacionMatrizVarianzaCovarianza()"
   ]
  },
  {
   "cell_type": "markdown",
   "metadata": {},
   "source": [
    "3.3 Creando matriz de Covarianza"
   ]
  },
  {
   "cell_type": "code",
   "execution_count": null,
   "metadata": {},
   "outputs": [],
   "source": [
    "componentesPrincipales.MatrizCovarianza().head(5)"
   ]
  },
  {
   "cell_type": "markdown",
   "metadata": {},
   "source": [
    "3.4 Polinomio Caracteristico"
   ]
  },
  {
   "cell_type": "code",
   "execution_count": null,
   "metadata": {},
   "outputs": [],
   "source": [
    "componentesPrincipales.PoligonomioCaracteristico()"
   ]
  },
  {
   "cell_type": "markdown",
   "metadata": {},
   "source": [
    "3.5 Valores Propios"
   ]
  },
  {
   "cell_type": "code",
   "execution_count": null,
   "metadata": {},
   "outputs": [],
   "source": [
    "componentesPrincipales.ValoresPropios()"
   ]
  }
 ],
 "metadata": {
  "kernelspec": {
   "display_name": "Python 3 (ipykernel)",
   "language": "python",
   "name": "python3"
  },
  "language_info": {
   "codemirror_mode": {
    "name": "ipython",
    "version": 3
   },
   "file_extension": ".py",
   "mimetype": "text/x-python",
   "name": "python",
   "nbconvert_exporter": "python",
   "pygments_lexer": "ipython3",
   "version": "3.10.6"
  }
 },
 "nbformat": 4,
 "nbformat_minor": 2
}
