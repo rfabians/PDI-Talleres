{
 "cells": [
  {
   "attachments": {},
   "cell_type": "markdown",
   "metadata": {},
   "source": [
    "\n",
    "## Universidad Distrital Francisco José de Caldas\n",
    "### Facultad de Ingeniería\n",
    "### Especialización en Sistemas de Información Geográfica\n",
    "### Procesamiento Matematico Digital de Imagenes  \n",
    "\n",
    "Taller 02  \n",
    "  \n",
    "Rafael Fabian Sanchez Osorio  \n",
    "Jorge Alexander Sierra Sierra  \n",
    "Maria Fernanda Jimenez  \n",
    "Fabian Andres Barreto  \n",
    "\n",
    "### Grupo 07"
   ]
  },
  {
   "attachments": {},
   "cell_type": "markdown",
   "metadata": {},
   "source": [
    "### 01. Importando Libreria"
   ]
  },
  {
   "cell_type": "code",
   "execution_count": null,
   "metadata": {},
   "outputs": [],
   "source": [
    "import PDI"
   ]
  },
  {
   "attachments": {},
   "cell_type": "markdown",
   "metadata": {},
   "source": [
    "### 02. Cargando Datos  \n",
    "  \n",
    "Obteniendo los datos de la Banda B17"
   ]
  },
  {
   "cell_type": "code",
   "execution_count": null,
   "metadata": {},
   "outputs": [],
   "source": [
    "rutaBandaB17 = 'Bandas/B17.txt'\n",
    "bandaB17 = PDI.Banda(rutaArchivoBanda=rutaBandaB17)\n",
    "bandaB17PasoAlto = PDI.Banda(rutaArchivoBanda=rutaBandaB17)"
   ]
  },
  {
   "attachments": {},
   "cell_type": "markdown",
   "metadata": {},
   "source": [
    "2.1 Creando Representación visual de la Banda B17"
   ]
  },
  {
   "cell_type": "code",
   "execution_count": null,
   "metadata": {},
   "outputs": [],
   "source": [
    "bandaB17.getGraficaMatriz()"
   ]
  },
  {
   "attachments": {},
   "cell_type": "markdown",
   "metadata": {},
   "source": [
    "## 3. Aplicando Filtro Paso Bajo"
   ]
  },
  {
   "attachments": {},
   "cell_type": "markdown",
   "metadata": {},
   "source": [
    "3.1 Expandiendo la Matriz"
   ]
  },
  {
   "cell_type": "code",
   "execution_count": null,
   "metadata": {},
   "outputs": [],
   "source": [
    "filtros = PDI.Filtros(bandaOriginal=bandaB17)\n",
    "filtros.expandirMatriz()\n",
    "filtros.bandaExpandida.getGraficaMatriz()"
   ]
  },
  {
   "attachments": {},
   "cell_type": "markdown",
   "metadata": {},
   "source": [
    "3.2 Creando Filtro Intermedio"
   ]
  },
  {
   "cell_type": "code",
   "execution_count": null,
   "metadata": {},
   "outputs": [],
   "source": [
    "filtroPasoBajo = [[1,2,3],\n",
    "                  [1,2,2],\n",
    "                  [1,1,1]]\n",
    "filtros.filtrarIntermedio(filtro=filtroPasoBajo).head(256)"
   ]
  },
  {
   "attachments": {},
   "cell_type": "markdown",
   "metadata": {},
   "source": [
    "3.3 Obteniendo intervalos apra hacer Strech"
   ]
  },
  {
   "cell_type": "code",
   "execution_count": null,
   "metadata": {},
   "outputs": [],
   "source": [
    "intervalos = [2,98]\n",
    "filtros.bandaResultante.intervalos(intervalos).head(6)"
   ]
  },
  {
   "attachments": {},
   "cell_type": "markdown",
   "metadata": {},
   "source": [
    "3.4 Realizando Strech"
   ]
  },
  {
   "cell_type": "code",
   "execution_count": null,
   "metadata": {},
   "outputs": [],
   "source": [
    "expansionLineal = PDI.ExpansionLineal(banda=filtros.bandaResultante, porcentajeMinMax=2)\n",
    "expansionLineal.reclasificacionValores().head(256)"
   ]
  },
  {
   "attachments": {},
   "cell_type": "markdown",
   "metadata": {},
   "source": [
    "3.5 Generando Grafica Nivel Digital Vs Visual"
   ]
  },
  {
   "cell_type": "code",
   "execution_count": null,
   "metadata": {},
   "outputs": [],
   "source": [
    "expansionLineal.graficaNivelDigitalVisual()"
   ]
  },
  {
   "attachments": {},
   "cell_type": "markdown",
   "metadata": {},
   "source": [
    "3.7 Generando representación gráfica de la matriz luego de Aplicar el filtro de paso Bajo y realizar Expansión Lineal"
   ]
  },
  {
   "cell_type": "code",
   "execution_count": null,
   "metadata": {},
   "outputs": [],
   "source": [
    "bandaB17Strech = expansionLineal.getStrechBanda(bandaB17)\n",
    "bandaB17Strech.getGraficaMatriz()"
   ]
  },
  {
   "cell_type": "code",
   "execution_count": null,
   "metadata": {},
   "outputs": [],
   "source": [
    "filtrosPasoAlto = PDI.Filtros(bandaOriginal=bandaB17PasoAlto)\n",
    "filtrosPasoAlto.expandirMatriz()\n",
    "filtrosPasoAlto.bandaExpandida.getGraficaMatriz()"
   ]
  },
  {
   "attachments": {},
   "cell_type": "markdown",
   "metadata": {},
   "source": [
    "## 4. Aplicando Filtro Paso Alto"
   ]
  },
  {
   "attachments": {},
   "cell_type": "markdown",
   "metadata": {},
   "source": [
    "4.1 Aplicando Filtro de Paso alto y genenrando matriz intermedia"
   ]
  },
  {
   "cell_type": "code",
   "execution_count": null,
   "metadata": {},
   "outputs": [],
   "source": [
    "matrizPasoAlto = [[-1,-2,3],\n",
    "                  [2,-5,-1],\n",
    "                  [-9,-1,-1]]\n",
    "\n",
    "filtrosPasoAlto.filtrarIntermedio(filtro=matrizPasoAlto).head(256)"
   ]
  },
  {
   "attachments": {},
   "cell_type": "markdown",
   "metadata": {},
   "source": [
    "4.2 Obteniendo valores de intervalo para la Expansión Líneal"
   ]
  },
  {
   "cell_type": "code",
   "execution_count": null,
   "metadata": {},
   "outputs": [],
   "source": [
    "intervalos = [2,98]\n",
    "filtrosPasoAlto.bandaResultante.intervalos(intervalos).head(6)"
   ]
  },
  {
   "attachments": {},
   "cell_type": "markdown",
   "metadata": {},
   "source": [
    "4.3 Generando tabla de Frecuencias y valores de Nivel visual"
   ]
  },
  {
   "cell_type": "code",
   "execution_count": null,
   "metadata": {},
   "outputs": [],
   "source": [
    "expansionLineal = PDI.ExpansionLineal(banda=filtrosPasoAlto.bandaResultante, porcentajeMinMax=2)\n",
    "expansionLineal.reclasificacionValores().head(256)"
   ]
  },
  {
   "attachments": {},
   "cell_type": "markdown",
   "metadata": {},
   "source": [
    "4.4 Creando gráfica de niveles digital vs niveles Visuales producto de la expansión líneal"
   ]
  },
  {
   "cell_type": "code",
   "execution_count": null,
   "metadata": {},
   "outputs": [],
   "source": [
    "expansionLineal.graficaNivelDigitalVisual()"
   ]
  },
  {
   "attachments": {},
   "cell_type": "markdown",
   "metadata": {},
   "source": [
    "4.5 Generando Representación Gráfica de la aplicación del filtro de paso Alto y la expansión líneal"
   ]
  },
  {
   "cell_type": "code",
   "execution_count": null,
   "metadata": {},
   "outputs": [],
   "source": [
    "bandaB17StrechPasoAlto = expansionLineal.getStrechBanda(bandaB17PasoAlto)\n",
    "bandaB17StrechPasoAlto.getGraficaMatriz()"
   ]
  }
 ],
 "metadata": {
  "kernelspec": {
   "display_name": "Python 3",
   "language": "python",
   "name": "python3"
  },
  "language_info": {
   "codemirror_mode": {
    "name": "ipython",
    "version": 3
   },
   "file_extension": ".py",
   "mimetype": "text/x-python",
   "name": "python",
   "nbconvert_exporter": "python",
   "pygments_lexer": "ipython3",
   "version": "3.10.6"
  },
  "orig_nbformat": 4,
  "vscode": {
   "interpreter": {
    "hash": "f9205b0581248452af896950a99937b989ddcc77c2415391b2b1927f2445a7bb"
   }
  }
 },
 "nbformat": 4,
 "nbformat_minor": 2
}
